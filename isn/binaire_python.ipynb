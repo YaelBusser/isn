{
 "cells": [
  {
   "cell_type": "markdown",
   "metadata": {},
   "source": [
    "# Activité d'algorithmique autour du binaire"
   ]
  },
  {
   "cell_type": "markdown",
   "metadata": {},
   "source": [
    "Afin de pouvoir personnaliser ce notebook sans détruire le fichier initial, vous allez tout d'abord aller dans le menu **`File`** puis **`Make a copy...`**. \n",
    "\n",
    "Renommez le classeur en cliquant sur son nom `Binaire et ...` et par exemple en remplaçant `copy1` par  *travail_1* ou autre à la fin du nom de fichier.\n",
    "\n",
    "Refermez alors l'onglet précédent en utilisant le menu **`File`** puis **`Close and Halt`**. \n",
    "\n",
    "En cas d'erreur de manipulation, vous venez de vous assurer la possibilité de recommencer à zéro à tout moment."
   ]
  },
  {
   "cell_type": "markdown",
   "metadata": {},
   "source": [
    "## Prise de contact avec le langage et l'environnement"
   ]
  },
  {
   "cell_type": "markdown",
   "metadata": {},
   "source": [
    "Vous allez utiliser le langage Python. Il a l'avantage d'être très simple à prendre en main et concis au niveau de sa syntaxe. Il est également très proche du langage algorithmique naturel que nous utilisons en classe."
   ]
  },
  {
   "cell_type": "markdown",
   "metadata": {},
   "source": [
    "L'environnement que vous avez sous les yeux se nomme  Jupyter notebook. Il fonctionne dans un navigateur internet et permet de mélanger des lignes de code Python et du texte. \n",
    "\n",
    "Les cellules de code sont facilement reconnaissables, elles sont précédées de `In [ ]:`.\n",
    "Ci-dessous se trouve une cellule de type ***code*** qui contient des instructions Python."
   ]
  },
  {
   "cell_type": "code",
   "execution_count": null,
   "metadata": {},
   "outputs": [],
   "source": [
    "a=3\n",
    "x=\"du texte\"\n",
    "def g(x):\n",
    "    return (1.5*x)\n",
    "f=g(a)"
   ]
  },
  {
   "cell_type": "markdown",
   "metadata": {},
   "source": [
    "On peut alterner ainsi des paragraphes de texte donnant des explications et des portions de programme.\n",
    "\n",
    "Pour valider le ***texte*** d'une cellule après l'avoir modifiée, ou exécuter le ***code*** qu'elle contient, on doit saisir la combinaison de 2 touches **`Maj + Entrée`**.\n",
    "C'est pour le moment tout ce que vous avez besoin de savoir.\n",
    "\n",
    "La cellule **ci-dessus** étant activée (encadrée avec un bord gauche gras et bleu) par exemple en cliquant dessus ou en utilisant les flèches, appuyez sur **`Maj + Entrée`** pour exécuter son code.\n",
    "\n",
    "Il vous a semblé que rien ne se passait. En réalité python a travaillé en mémoire.\n",
    "\n",
    "Exécutez de la même façon la ligne de code ci-dessous."
   ]
  },
  {
   "cell_type": "code",
   "execution_count": null,
   "metadata": {},
   "outputs": [],
   "source": [
    "%whos"
   ]
  },
  {
   "cell_type": "markdown",
   "metadata": {},
   "source": [
    "Vous avez sous les yeux les 4 objets python de différentes natures présents en mémoire.\n",
    "- `int` signifie que `a` est un *entier*.\n",
    "- `str` signifie que `x` est une *chaine (string) de caractères*. \n",
    "- `function` signifie que `g` est une *fonction*. **Notez que** le `x` interne à la fonction **n'existe plus** en mémoire après l'appel de la fonction.\n",
    "- `float` signifie que `f` est un *flottant*.\n",
    "\n",
    "python utilise ces différents types car les façons de stocker en mémoire, de numériser un entier et un flottant sont différentes."
   ]
  },
  {
   "cell_type": "markdown",
   "metadata": {},
   "source": [
    "\n",
    "<H3>Seulement du texte et du code ?</H3>\n",
    "\n",
    "On peut, dans une cellule markdown insérer directement du <B>code HTML</B> !!!\n",
    "<P>donc une image :\n",
    "   ![By Juan Lacruz [CC BY-SA 3.0  (https://creativecommons.org/licenses/by-sa/3.0)], from Wikimedia Commons](https://upload.wikimedia.org/wikipedia/commons/thumb/a/a1/Rupicapra.jpg/320px-Rupicapra.jpg \"Une chèvre et son cabri\") \n",
    "<P>ou un tableau\n",
    "<TABLE><TR><TD>colonne 1</TD><TD>Colonne 2</TD></TR>\n",
    "<TR><TD>Machin</TD><TD>Truc</TD></TR>\n",
    "</TABLE>\n",
    "Et même des formules mathématiques $\\sum_{i=1}^{n}{i} =\\dfrac{n(n+1)}{2}$ en utilisant le langage de description $\\LaTeX$."
   ]
  },
  {
   "cell_type": "markdown",
   "metadata": {},
   "source": [
    "## Le binaire et python "
   ]
  },
  {
   "cell_type": "markdown",
   "metadata": {},
   "source": [
    "### de binaire vers décimal\n",
    "Écrivons 10101 et 1101 en décimale avant de généraliser :\n",
    "\n",
    "![](http://b.rynhe.de.tioch.free.fr/image/bin_a_dec2.png \"2 conversions\")\n",
    "\n",
    "\n",
    "Voici un algorithme de conversion à compléter : \n",
    "![](http://b.rynhe.de.tioch.free.fr/image/algo_bin_dec.png \"algo de conversion\")\n",
    "\n",
    "et sa traduction en python dans la cellule ci-dessous :"
   ]
  },
  {
   "cell_type": "code",
   "execution_count": 19,
   "metadata": {},
   "outputs": [],
   "source": [
    "def decim(bi):       # bi est une chaine de caractère\n",
    "    \"\"\"Transforme une chaine de caractère formée de 0 et de 1 en nombre décimal\"\"\"\n",
    "    d = 0       # la variable locale (interne à la fonction decim ) d est initialisée à 0\n",
    "    for k in bi:     # on traite tous les caractères \n",
    "        val = int(k) # on convertit le kième caractère en entier\n",
    "        d = 2*d +val  # On ajoute … au double de d\n",
    "    return d         # On renvoie d"
   ]
  },
  {
   "cell_type": "code",
   "execution_count": null,
   "metadata": {},
   "outputs": [],
   "source": []
  },
  {
   "cell_type": "code",
   "execution_count": 36,
   "metadata": {
    "scrolled": true
   },
   "outputs": [
    {
     "data": {
      "text/plain": [
       "41"
      ]
     },
     "execution_count": 36,
     "metadata": {},
     "output_type": "execute_result"
    }
   ],
   "source": [
    "decim('101001')"
   ]
  },
  {
   "cell_type": "code",
   "execution_count": null,
   "metadata": {},
   "outputs": [],
   "source": []
  },
  {
   "cell_type": "code",
   "execution_count": null,
   "metadata": {},
   "outputs": [],
   "source": []
  },
  {
   "cell_type": "markdown",
   "metadata": {},
   "source": [
    "Attention, la chaine de caractère saisie doit correspondre à un nombre binaire, sinon la valeur renvoyée n'aura aucun sens.\n",
    "\n",
    "C'est un excellent exercice que de fabriquer un programme python qui valide au fur et à mesure la compatibilité du texte saisi."
   ]
  },
  {
   "cell_type": "markdown",
   "metadata": {},
   "source": [
    "### De décimal vers binaire \n",
    "Écrivons 13 en binaire avant de généraliser :\n",
    "\n",
    "![](http://b.rynhe.de.tioch.free.fr/image/dec_a_bin2.png \"1 conversion\")\n",
    "\n",
    "L’écriture en binaire est constitué des restes successifs dans la répétition des divisions euclidiennes par 2.\n",
    "\n",
    "On déduit l’algorithme à compléter d’une fonction de conversion suivant :\n",
    "![](http://b.rynhe.de.tioch.free.fr/image/algo_dec_a_bin.png \"algo de conversion\")"
   ]
  },
  {
   "cell_type": "markdown",
   "metadata": {},
   "source": [
    "Complétez à la main l'exécution de cet algorithme appliqué au nombre 41 en complétant au fur et à mesure le tableau suivant :\n",
    "<TABLE border cellspacing=2 rules=all><TR> <TD>deci</TD><TD>41</TD><TD>…</TD><TD>…</TD><TD>…</TD><TD>…</TD><TD>…</TD><TD>…</TD><TD>…</TD><TD>…</TD></TR>\n",
    "<TR> <TD>reste</TD><TD>…</TD><TD>…</TD><TD>…</TD><TD>…</TD><TD>…</TD><TD>…</TD><TD>…</TD><TD>…</TD><TD>…</TD></TR>\n",
    "<TR> <TD>bin</TD><TD>…</TD><TD>…</TD><TD>…</TD><TD>…</TD><TD>…</TD><TD>…</TD><TD>…</TD><TD>…</TD><TD>…</TD></TR>\n",
    "</TABLE>"
   ]
  },
  {
   "cell_type": "markdown",
   "metadata": {},
   "source": [
    "Si ce n'est pas clair, n’hésitez pas à recommencer pour un autre nombre.\n",
    "\n",
    "Voici, dans la cellule ci-dessous, la traduction en python :"
   ]
  },
  {
   "cell_type": "code",
   "execution_count": 37,
   "metadata": {},
   "outputs": [],
   "source": [
    "def binaire(d):\n",
    "    \"\"\"Transforme un nombre décimal en binaire\"\"\"\n",
    "    bi = \"\"       # la chaine de caractères bi est initialisée vide\n",
    "    while d > 0:\n",
    "        reste = d%2            # d%2 est le reste de la division de d par 2\n",
    "        bi = str(reste) + bi   # on convertit reste en chaine et on l'ajoute à gauche de bi\n",
    "        d = d // 2                # en python, // désigne la division euclidienne\n",
    "    return bi"
   ]
  },
  {
   "cell_type": "code",
   "execution_count": 40,
   "metadata": {},
   "outputs": [
    {
     "data": {
      "text/plain": [
       "'101'"
      ]
     },
     "execution_count": 40,
     "metadata": {},
     "output_type": "execute_result"
    }
   ],
   "source": [
    "binaire(5)"
   ]
  },
  {
   "cell_type": "code",
   "execution_count": null,
   "metadata": {},
   "outputs": [],
   "source": []
  },
  {
   "cell_type": "code",
   "execution_count": null,
   "metadata": {},
   "outputs": [],
   "source": []
  },
  {
   "cell_type": "markdown",
   "metadata": {},
   "source": [
    "## Le codage hexadécimal\n",
    "Pour finir aujourd’hui, nous allons évoquer un dernier type de codage, qui constitue une alternative pratique au codage binaire. Il s’agit du codage hexadécimal, autrement dit en base seize.\n",
    "\n",
    "### Pourquoi ce choix à priori bizarre ? \n",
    "Tout d’abord, parce que le codage binaire, est une écriture ni très économique, ni très lisible.\n",
    "\n",
    "Pas très économique : pour représenter un nombre entre 1 et 256, il faut utiliser systématiquement huit chiffres.\n",
    "\n",
    "Pas très lisible : parce qu’au delà de 3 caractères, notre cerveau n’arrive pas à lire « automatiquement ».\n",
    "\n",
    "Alors, une alternative toute naturelle, est de représenter l’octet non comme huit bits (ce que nous avons fait jusque là), mais comme deux paquets de 4 bits (les quatre de gauche dits de poids fort, et les quatre de droite)."
   ]
  },
  {
   "cell_type": "markdown",
   "metadata": {},
   "source": [
    "### Voyons cela de plus près. \n",
    "Avec 4 bits, nous pouvons coder 2⁴ = 16 nombres différents. \n",
    "\n",
    "En base seize, 16 nombres différents se représentent avec un seul caractère ou chiffre (de même qu’en base 10, dix nombres se représentent avec un seul chiffre).\n",
    "\n",
    "Quels symboles choisir pour les chiffres ? Pour les dix premiers, on n’est pas allé chercher bien loin : on a recyclé les dix chiffres de la base décimale. Les dix premiers nombres de la base seize s’écrivent donc tout bêtement 0, 1, 2, 3, 4, 5, 6, 7, 8, et 9. \n",
    "\n",
    "Là, il nous manque encore 6 chiffres, pour représenter les nombres que nous écrivons en décimal 10, 11, 12, 13, 14 et 15. Plutôt qu’inventer de nouveaux symboles (ce qu’on aurait très bien pu faire), on a recyclé les premières lettres de l’alphabet. Ainsi, par convention, A vaut 10, B vaut 11, etc. jusqu’à F qui vaut 15."
   ]
  },
  {
   "cell_type": "markdown",
   "metadata": {},
   "source": [
    "On s’aperçoit que cette base hexadécimale permet une représentation très simple des octets du binaire par 2 \"chiffres\".\n",
    "\n",
    "### Un exemple\n",
    "Prenons un octet au hasard : 1001 1110.\n",
    "\n",
    "Complètez les pointillés ci-dessous :\n"
   ]
  },
  {
   "cell_type": "code",
   "execution_count": null,
   "metadata": {},
   "outputs": [],
   "source": []
  },
  {
   "cell_type": "markdown",
   "metadata": {},
   "source": [
    "#### un voyage par étape\n",
    "On commence par convertir ce nombre en écriture décimale en complétant ci-dessous. \n",
    "\n",
    "1001 1110₂ \t= ( 1 × 2⁷ + 0 × 2⁶ + 0 × 2⁵ + 1 × 2⁴ + 1 × 2³ + 1 × 2² + 1 × 2¹ + 0 × 2⁰ )₁₀ \n",
    "\t\t= 128 + 16 + 8 + 4 + 2 = 158\n",
    "        \n",
    "De là, il faut passer à la base hexadécimale.\n",
    "\n",
    "Pour passer à la base hexadécimale, on utilise la division sur les nombres entiers apprise en primaire.\n",
    "\n",
    "Dans la division euclidienne de 158 par 16, le quotient est  9 et le reste est 14 .\n",
    "\n",
    "Ainsi 158 = 9× 16 + 14 = 9× 16¹ + 14 × 16⁰ = 9E ₁₆  .\n",
    "\n",
    "Le nombre 1001 1110₂ ou 158 en décimal s’écrit donc 9E en hexadécimal.\n",
    "\n",
    "#### un aller direct\n",
    "Une autre méthode consiste à faire le voyage direct du binaire vers l’hexadécimal. \n",
    "Avec l’habitude, c’est nettement plus rapide !\n",
    "\n",
    "Séparons 1001 1110 en 1001 (4 bits de poids fort) et 1110 (4 bits de poids faible).\n",
    "\n",
    "1001₂ = (1 × 2³ + 0 × 2² + 0 × 2¹ + 1 × 2⁰ )₁₀ = 9₁₀ = 9₁₆  \n",
    "\n",
    "1110₂ = (2³  + 2²  + 2¹ + 0*2⁰)₁₀ = 14₁₀ = E₁₆ \n",
    "Le nombre s’écrit donc  9E  en hexadécimal. "
   ]
  },
  {
   "cell_type": "markdown",
   "metadata": {},
   "source": [
    "Le codage hexadécimal est très souvent utilisé quand on a besoin de représenter les octets individuellement, car dans ce codage, tout octet correspond à seulement deux chiffres de 0 à F.\n",
    "\n",
    "La encore, nous allons demander un coup de main à Python pour convertir plus rapidement.\n",
    "\n",
    "Exécutez la cellule ci-dessous :"
   ]
  },
  {
   "cell_type": "code",
   "execution_count": 43,
   "metadata": {},
   "outputs": [],
   "source": [
    "b = bin(150)\n",
    "h = hex(38)\n",
    "d = 0b10011110\n",
    "e = 0x2f\n",
    "u = ord('a')\n",
    "c = chr(97)"
   ]
  },
  {
   "cell_type": "markdown",
   "metadata": {},
   "source": [
    "- Que font les fonctions `bin()`, `hex()`, `ord()` et `chr()` ? \n",
    "- De quel type sont les renvois de ces 4 fonctions ? \n",
    "- De quel type sont `d`, `e`, `u` et `c` ? \n",
    "- À quoi correspondent les 2 premiers caractères de `d` et `e` ? \n",
    "- Selon vous, qui de `b` ou de `d` utilise le plus d'espace mémoire ?\n",
    "\n",
    "Pour répondre à toutes ces questions, réutilisons l'instruction `%whos`."
   ]
  },
  {
   "cell_type": "code",
   "execution_count": 44,
   "metadata": {},
   "outputs": [
    {
     "name": "stdout",
     "output_type": "stream",
     "text": [
      "Variable   Type        Data/Info\n",
      "--------------------------------\n",
      "b          str         0b10010110\n",
      "binaire    function    <function binaire at 0x00000225918F7598>\n",
      "c          str         a\n",
      "d          int         158\n",
      "decim      function    <function decim at 0x00000225918F79D8>\n",
      "e          int         47\n",
      "h          str         0x26\n",
      "u          int         97\n"
     ]
    }
   ],
   "source": [
    "%whos"
   ]
  },
  {
   "cell_type": "markdown",
   "metadata": {},
   "source": [
    "Complétez :\n",
    "- `b` et `h` sont des chaines de caractères\n",
    "- la fonction `bin()` prend un nombre et le renvoie en binaire\n",
    "- la fonction `hex()` prend un un nombre et le renvoie en hexadécimal\n",
    "- `u` est un entier\n",
    "- la fonction `ord()` prend un nombre et renvoie son codage en base 10\n",
    "- `c` est un ...\n",
    "- la fonction `char()` prend un code ... et renvoie ...\n",
    "- `d` et `e` sont des entier \n",
    "- les 2 caractères `0b` permettent à python de ...\n",
    "- les 2 caractères `0x` permettent à python de ...\n",
    "- Selon moi `b` utilise ... de mémoire que `d` ."
   ]
  },
  {
   "cell_type": "markdown",
   "metadata": {},
   "source": [
    "Pour chaque points de suspension que vous compléterez ci-dessous, créez, complétez une cellule de code python qui justifie la réponse :\n",
    "\n",
    "- 1010 1010₂ =  20 en décimal = AA en hexadécimal\n"
   ]
  },
  {
   "cell_type": "code",
   "execution_count": null,
   "metadata": {},
   "outputs": [],
   "source": []
  },
  {
   "cell_type": "markdown",
   "metadata": {},
   "source": [
    "- A82₁₆ =  en décimal = … en binaire \n"
   ]
  },
  {
   "cell_type": "code",
   "execution_count": null,
   "metadata": {},
   "outputs": [],
   "source": []
  },
  {
   "cell_type": "markdown",
   "metadata": {},
   "source": [
    "- 247 = … en binaire = … en hexadécimal\n"
   ]
  },
  {
   "cell_type": "code",
   "execution_count": null,
   "metadata": {},
   "outputs": [],
   "source": []
  },
  {
   "cell_type": "markdown",
   "metadata": {},
   "source": [
    "- En unicode, 0101 0101 code …"
   ]
  },
  {
   "cell_type": "code",
   "execution_count": null,
   "metadata": {},
   "outputs": [],
   "source": []
  },
  {
   "cell_type": "markdown",
   "metadata": {},
   "source": [
    "- En unicode, 26₁₆ code …\n"
   ]
  },
  {
   "cell_type": "code",
   "execution_count": null,
   "metadata": {},
   "outputs": [],
   "source": []
  },
  {
   "cell_type": "markdown",
   "metadata": {},
   "source": [
    "- En unicode, 65₁₀ code …"
   ]
  },
  {
   "cell_type": "code",
   "execution_count": null,
   "metadata": {},
   "outputs": [],
   "source": []
  },
  {
   "cell_type": "markdown",
   "metadata": {},
   "source": [
    "- En unicode, 65₁₆ code …"
   ]
  },
  {
   "cell_type": "code",
   "execution_count": null,
   "metadata": {},
   "outputs": [],
   "source": []
  },
  {
   "cell_type": "markdown",
   "metadata": {},
   "source": [
    "- En unicode, \"a\" est codé …"
   ]
  },
  {
   "cell_type": "code",
   "execution_count": null,
   "metadata": {},
   "outputs": [],
   "source": []
  },
  {
   "cell_type": "markdown",
   "metadata": {},
   "source": [
    "- Dans le langage Python … sert à dire qu’on commente le programme"
   ]
  },
  {
   "cell_type": "markdown",
   "metadata": {},
   "source": [
    "# Ce que vous pouvez retenir en plus sur le langage Python"
   ]
  },
  {
   "cell_type": "markdown",
   "metadata": {},
   "source": [
    "## Les opérations de base\n",
    "\n",
    "\n",
    "Opération | algorithme | python\n",
    " ---:    |   :---  |  :---  \n",
    "addition | 2 + 3 | 2 + 3\n",
    "Soustraction | 12 - 5 | 12 - 5\n",
    "Multiplication | 3 × 6 | 3 * 6\n",
    "Division  | 7 / 2 | 7 / 2\n",
    "Quotient de la division euclidienne | 7 div 2 ou div(7,2) | 7//2  \n",
    "Reste de la division euclidienne | 7 mod 2 ou reste de 7 divisé par 2 | 7%2\n",
    "puissance | $7^2$ | 7\\*\\*2\n",
    "racine carrée | $\\sqrt{2}$ ou sqrt(2) | math.sqrt(2) \n",
    "\n",
    "pour `math.sqrt`, il faut que `import math` ait été évalué une fois précédemment, peu importe quand."
   ]
  },
  {
   "cell_type": "markdown",
   "metadata": {},
   "source": [
    "## Les variables"
   ]
  },
  {
   "cell_type": "markdown",
   "metadata": {},
   "source": [
    "- L'affectation des valeurs au variables se fait très naturellement au moyen du signe =\n",
    "- L'affichage du contenu d'une variable se fait par l'instruction ***print ()***"
   ]
  },
  {
   "cell_type": "code",
   "execution_count": null,
   "metadata": {},
   "outputs": [],
   "source": [
    "a=3\n",
    "print(a)"
   ]
  },
  {
   "cell_type": "markdown",
   "metadata": {},
   "source": [
    "## Les fonctions\n",
    "Les fonctions permettent de \"factoriser\" des suites d'opérations et de les appeler en passant un ou plusieurs paramètres.\n",
    "\n",
    "Ce sont des objets python excessivement pratiques."
   ]
  },
  {
   "cell_type": "code",
   "execution_count": null,
   "metadata": {},
   "outputs": [],
   "source": [
    "def f(x, y): # Ne pas oublier les :\n",
    "    # il peut y avoir plusieurs lignes indentées formant un bloc d'instructions\n",
    "    return (x**2-y**2) # On finit toujours une fonction par le renvoie d'un ou plusieurs objets"
   ]
  },
  {
   "cell_type": "markdown",
   "metadata": {},
   "source": [
    "définie la fonction $f$ de paramètres $x$ et $y$ qui renvoie $x^2-y^2$.\n",
    "\n",
    "On appelle son exécution ainsi :"
   ]
  },
  {
   "cell_type": "code",
   "execution_count": null,
   "metadata": {},
   "outputs": [],
   "source": [
    "f(4, 5)"
   ]
  },
  {
   "cell_type": "markdown",
   "metadata": {},
   "source": [
    "## La boucle pour"
   ]
  },
  {
   "cell_type": "markdown",
   "metadata": {},
   "source": [
    "Les boucles *Répéter pour* se définissent au moyen de l'instruction ***for variable in range(nb_itérations) :***\n",
    "\n",
    "Comme python est mathématicien, il commence avec le premier entier (0) et donc, *variable* prendra les valeurs de 0 à nb_itérations***-1***."
   ]
  },
  {
   "cell_type": "code",
   "execution_count": null,
   "metadata": {},
   "outputs": [],
   "source": [
    "for i in range(5): # Ne pas oublier les :\n",
    "    print (i)      # Ne pas oublier l'indentation"
   ]
  },
  {
   "cell_type": "markdown",
   "metadata": {},
   "source": [
    "## La boucle tant que"
   ]
  },
  {
   "cell_type": "markdown",
   "metadata": {},
   "source": [
    "Les boucles *Tant que* se définissent au moyen de l'instruction ***while (condition) :***"
   ]
  },
  {
   "cell_type": "code",
   "execution_count": null,
   "metadata": {},
   "outputs": [],
   "source": [
    "i=1\n",
    "while(i<10):\n",
    "    i=i+2\n",
    "print(i)"
   ]
  },
  {
   "cell_type": "markdown",
   "metadata": {},
   "source": [
    "# Pour la prochaine fois ...\n",
    "ou pour les plus rapides\n",
    "\n",
    "Convertir les hexadécimaux ci-dessous en décimal et **à la main** puis vérifier avec python:\n",
    "- E7\n",
    "- 7D\n",
    "- 1010\n",
    "\n",
    "Convertir les décimaux ci-dessous en binaire et **à la main** puis vérifier avec python:\n",
    "- 357\n",
    "- 1010\n",
    "- 85\n",
    "\n",
    "Convertir les binaires ci-dessous en hexadécimal et **à la main** puis vérifier avec python:\n",
    "- 1011 0010\n",
    "- 0011 1110\n",
    "- 1010 1001\n"
   ]
  },
  {
   "cell_type": "code",
   "execution_count": null,
   "metadata": {},
   "outputs": [],
   "source": [
    "# vérifiez ici"
   ]
  },
  {
   "cell_type": "markdown",
   "metadata": {},
   "source": [
    "** Sauvegardez le document obtenu en utilisant le menu** `File` **puis** `Save and Checkpoint`.\n",
    "\n",
    "Fermez ce document en utilisant le menu `File` puis `Close and Halt` qui fermera le présent onglet et videra la mémoire et les processus utilisés par python."
   ]
  }
 ],
 "metadata": {
  "kernelspec": {
   "display_name": "Python 3",
   "language": "python",
   "name": "python3"
  },
  "language_info": {
   "codemirror_mode": {
    "name": "ipython",
    "version": 3
   },
   "file_extension": ".py",
   "mimetype": "text/x-python",
   "name": "python",
   "nbconvert_exporter": "python",
   "pygments_lexer": "ipython3",
   "version": "3.6.5"
  }
 },
 "nbformat": 4,
 "nbformat_minor": 2
}
